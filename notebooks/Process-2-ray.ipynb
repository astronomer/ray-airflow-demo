{
 "cells": [
  {
   "cell_type": "code",
   "execution_count": 1,
   "id": "played-breeding",
   "metadata": {},
   "outputs": [],
   "source": [
    "import numpy as np\n",
    "import ray\n",
    "import pickle\n",
    "import sys\n",
    "sys.path.append('../include/libs')\n",
    "sys.path.append('..')\n",
    "from include.libs.ray.serialization import (\n",
    "    RayStore\n",
    ")\n",
    "import pandas as pd"
   ]
  },
  {
   "cell_type": "code",
   "execution_count": 2,
   "id": "chronic-hayes",
   "metadata": {},
   "outputs": [],
   "source": [
    "df = pd.DataFrame(np.random.randint(0,1000, size=(1000, 6)), columns=list('ABCDEF'))"
   ]
  },
  {
   "cell_type": "code",
   "execution_count": 3,
   "id": "south-toddler",
   "metadata": {},
   "outputs": [],
   "source": [
    "some_store = {\"task_1\": 1, \"task_2\": \"hello\", \"task_3\": df}"
   ]
  },
  {
   "cell_type": "code",
   "execution_count": 4,
   "id": "utility-fisher",
   "metadata": {},
   "outputs": [
    {
     "data": {
      "text/html": [
       "<div>\n",
       "<style scoped>\n",
       "    .dataframe tbody tr th:only-of-type {\n",
       "        vertical-align: middle;\n",
       "    }\n",
       "\n",
       "    .dataframe tbody tr th {\n",
       "        vertical-align: top;\n",
       "    }\n",
       "\n",
       "    .dataframe thead th {\n",
       "        text-align: right;\n",
       "    }\n",
       "</style>\n",
       "<table border=\"1\" class=\"dataframe\">\n",
       "  <thead>\n",
       "    <tr style=\"text-align: right;\">\n",
       "      <th></th>\n",
       "      <th>A</th>\n",
       "      <th>B</th>\n",
       "      <th>C</th>\n",
       "      <th>D</th>\n",
       "      <th>E</th>\n",
       "      <th>F</th>\n",
       "    </tr>\n",
       "  </thead>\n",
       "  <tbody>\n",
       "    <tr>\n",
       "      <th>0</th>\n",
       "      <td>605</td>\n",
       "      <td>72</td>\n",
       "      <td>97</td>\n",
       "      <td>443</td>\n",
       "      <td>223</td>\n",
       "      <td>926</td>\n",
       "    </tr>\n",
       "    <tr>\n",
       "      <th>1</th>\n",
       "      <td>948</td>\n",
       "      <td>111</td>\n",
       "      <td>750</td>\n",
       "      <td>276</td>\n",
       "      <td>881</td>\n",
       "      <td>642</td>\n",
       "    </tr>\n",
       "    <tr>\n",
       "      <th>2</th>\n",
       "      <td>911</td>\n",
       "      <td>41</td>\n",
       "      <td>875</td>\n",
       "      <td>498</td>\n",
       "      <td>240</td>\n",
       "      <td>696</td>\n",
       "    </tr>\n",
       "    <tr>\n",
       "      <th>3</th>\n",
       "      <td>256</td>\n",
       "      <td>770</td>\n",
       "      <td>925</td>\n",
       "      <td>101</td>\n",
       "      <td>247</td>\n",
       "      <td>644</td>\n",
       "    </tr>\n",
       "    <tr>\n",
       "      <th>4</th>\n",
       "      <td>856</td>\n",
       "      <td>498</td>\n",
       "      <td>404</td>\n",
       "      <td>896</td>\n",
       "      <td>714</td>\n",
       "      <td>307</td>\n",
       "    </tr>\n",
       "    <tr>\n",
       "      <th>...</th>\n",
       "      <td>...</td>\n",
       "      <td>...</td>\n",
       "      <td>...</td>\n",
       "      <td>...</td>\n",
       "      <td>...</td>\n",
       "      <td>...</td>\n",
       "    </tr>\n",
       "    <tr>\n",
       "      <th>995</th>\n",
       "      <td>756</td>\n",
       "      <td>919</td>\n",
       "      <td>217</td>\n",
       "      <td>526</td>\n",
       "      <td>30</td>\n",
       "      <td>766</td>\n",
       "    </tr>\n",
       "    <tr>\n",
       "      <th>996</th>\n",
       "      <td>12</td>\n",
       "      <td>303</td>\n",
       "      <td>142</td>\n",
       "      <td>489</td>\n",
       "      <td>183</td>\n",
       "      <td>386</td>\n",
       "    </tr>\n",
       "    <tr>\n",
       "      <th>997</th>\n",
       "      <td>983</td>\n",
       "      <td>742</td>\n",
       "      <td>498</td>\n",
       "      <td>889</td>\n",
       "      <td>753</td>\n",
       "      <td>690</td>\n",
       "    </tr>\n",
       "    <tr>\n",
       "      <th>998</th>\n",
       "      <td>800</td>\n",
       "      <td>448</td>\n",
       "      <td>787</td>\n",
       "      <td>217</td>\n",
       "      <td>788</td>\n",
       "      <td>480</td>\n",
       "    </tr>\n",
       "    <tr>\n",
       "      <th>999</th>\n",
       "      <td>230</td>\n",
       "      <td>419</td>\n",
       "      <td>986</td>\n",
       "      <td>963</td>\n",
       "      <td>56</td>\n",
       "      <td>958</td>\n",
       "    </tr>\n",
       "  </tbody>\n",
       "</table>\n",
       "<p>1000 rows × 6 columns</p>\n",
       "</div>"
      ],
      "text/plain": [
       "       A    B    C    D    E    F\n",
       "0    605   72   97  443  223  926\n",
       "1    948  111  750  276  881  642\n",
       "2    911   41  875  498  240  696\n",
       "3    256  770  925  101  247  644\n",
       "4    856  498  404  896  714  307\n",
       "..   ...  ...  ...  ...  ...  ...\n",
       "995  756  919  217  526   30  766\n",
       "996   12  303  142  489  183  386\n",
       "997  983  742  498  889  753  690\n",
       "998  800  448  787  217  788  480\n",
       "999  230  419  986  963   56  958\n",
       "\n",
       "[1000 rows x 6 columns]"
      ]
     },
     "execution_count": 4,
     "metadata": {},
     "output_type": "execute_result"
    }
   ],
   "source": [
    "some_store.get('task_3')"
   ]
  },
  {
   "cell_type": "code",
   "execution_count": null,
   "id": "guilty-wound",
   "metadata": {},
   "outputs": [],
   "source": []
  },
  {
   "cell_type": "code",
   "execution_count": null,
   "id": "recreational-money",
   "metadata": {},
   "outputs": [],
   "source": [
    "if not ray.is_initialized():\n",
    "    print(\"Initializing Ray\")\n",
    "    ray.util.connect('192.168.1.7:10001')"
   ]
  },
  {
   "cell_type": "code",
   "execution_count": null,
   "id": "running-reservoir",
   "metadata": {},
   "outputs": [],
   "source": [
    "ray.timeline(filename=\"/tmp/timeline.json\")"
   ]
  },
  {
   "cell_type": "code",
   "execution_count": null,
   "id": "intelligent-forestry",
   "metadata": {},
   "outputs": [],
   "source": [
    "handle = ray.get_actor(\"actor_return_value_task_flow_ray_pandas_build_dataframe\")"
   ]
  },
  {
   "cell_type": "code",
   "execution_count": null,
   "id": "statistical-covering",
   "metadata": {},
   "outputs": [],
   "source": [
    "val = handle.get.remote()"
   ]
  },
  {
   "cell_type": "code",
   "execution_count": null,
   "id": "danish-tourism",
   "metadata": {},
   "outputs": [],
   "source": [
    "val"
   ]
  },
  {
   "cell_type": "code",
   "execution_count": null,
   "id": "moving-calculation",
   "metadata": {},
   "outputs": [],
   "source": [
    "ray.get(handle.get.remote())"
   ]
  },
  {
   "cell_type": "code",
   "execution_count": null,
   "id": "downtown-wisconsin",
   "metadata": {},
   "outputs": [],
   "source": [
    "h22 = ray.get_actor(\"df_2\")"
   ]
  },
  {
   "cell_type": "code",
   "execution_count": null,
   "id": "domestic-preservation",
   "metadata": {},
   "outputs": [],
   "source": [
    "ray.get(h22.get.remote())"
   ]
  },
  {
   "cell_type": "code",
   "execution_count": null,
   "id": "activated-perspective",
   "metadata": {},
   "outputs": [],
   "source": []
  }
 ],
 "metadata": {
  "kernelspec": {
   "display_name": "Python 3",
   "language": "python",
   "name": "python3"
  },
  "language_info": {
   "codemirror_mode": {
    "name": "ipython",
    "version": 3
   },
   "file_extension": ".py",
   "mimetype": "text/x-python",
   "name": "python",
   "nbconvert_exporter": "python",
   "pygments_lexer": "ipython3",
   "version": "3.7.7"
  }
 },
 "nbformat": 4,
 "nbformat_minor": 5
}

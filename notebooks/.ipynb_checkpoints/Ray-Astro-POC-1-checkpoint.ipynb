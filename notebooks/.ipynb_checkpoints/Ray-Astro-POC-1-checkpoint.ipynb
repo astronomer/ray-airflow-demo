{
 "cells": [
  {
   "cell_type": "code",
   "execution_count": null,
   "id": "acquired-sender",
   "metadata": {},
   "outputs": [],
   "source": [
    "import numpy as np\n",
    "import ray\n",
    "import os\n",
    "import sys\n",
    "import pickle\n",
    "import json\n",
    "sys.path.append('../include/libs')\n",
    "sys.path.append('..')\n",
    "from include.libs.ray.serialization import (\n",
    "    RayStore\n",
    ")"
   ]
  },
  {
   "cell_type": "code",
   "execution_count": null,
   "id": "periodic-debate",
   "metadata": {},
   "outputs": [],
   "source": [
    "import sys\n",
    "sys.version_info"
   ]
  },
  {
   "cell_type": "code",
   "execution_count": null,
   "id": "worldwide-slope",
   "metadata": {
    "scrolled": true
   },
   "outputs": [],
   "source": [
    "if not ray.is_initialized():\n",
    "    print(\"Initializing Ray\")\n",
    "    ray.util.connect('192.168.1.7:10001')"
   ]
  },
  {
   "cell_type": "code",
   "execution_count": null,
   "id": "humanitarian-gross",
   "metadata": {},
   "outputs": [],
   "source": [
    "data_string = '{\"1001\": 301.27, \"1002\": 433.21, \"1003\": 502.22}'\n",
    "order_data_dict = json.loads(data_string)"
   ]
  },
  {
   "cell_type": "code",
   "execution_count": null,
   "id": "apparent-greene",
   "metadata": {},
   "outputs": [],
   "source": [
    "# ray.get_runtime_context().worker.worker.__dict__"
   ]
  },
  {
   "cell_type": "markdown",
   "id": "artificial-denial",
   "metadata": {},
   "source": [
    "### Using Named Actor"
   ]
  },
  {
   "cell_type": "code",
   "execution_count": null,
   "id": "eligible-wrist",
   "metadata": {},
   "outputs": [],
   "source": [
    "ser_handle = RayStore.options(name=\"unique_new_york\").remote()"
   ]
  },
  {
   "cell_type": "code",
   "execution_count": null,
   "id": "productive-conversation",
   "metadata": {},
   "outputs": [],
   "source": [
    "ser_handle"
   ]
  },
  {
   "cell_type": "code",
   "execution_count": null,
   "id": "adopted-expression",
   "metadata": {},
   "outputs": [],
   "source": [
    "ret = ser_handle.put.remote(order_data_dict)"
   ]
  },
  {
   "cell_type": "code",
   "execution_count": null,
   "id": "agreed-spectrum",
   "metadata": {},
   "outputs": [],
   "source": [
    "ret"
   ]
  },
  {
   "cell_type": "code",
   "execution_count": null,
   "id": "prime-amazon",
   "metadata": {},
   "outputs": [],
   "source": [
    "ray.kill(ser_handle)"
   ]
  },
  {
   "cell_type": "code",
   "execution_count": null,
   "id": "offshore-profit",
   "metadata": {},
   "outputs": [],
   "source": [
    "import pandas as pd\n",
    "import numpy as np"
   ]
  },
  {
   "cell_type": "code",
   "execution_count": null,
   "id": "figured-composer",
   "metadata": {},
   "outputs": [],
   "source": [
    "df = pd.DataFrame(np.random.randint(0,1000,size=(1000, 4)), columns=list('ABCD'))"
   ]
  },
  {
   "cell_type": "code",
   "execution_count": null,
   "id": "measured-sister",
   "metadata": {},
   "outputs": [],
   "source": [
    "df.head()"
   ]
  },
  {
   "cell_type": "code",
   "execution_count": null,
   "id": "exempt-posting",
   "metadata": {},
   "outputs": [],
   "source": [
    "h2 = RayStore.options(name=\"df_2\").remote()"
   ]
  },
  {
   "cell_type": "code",
   "execution_count": null,
   "id": "engaging-obligation",
   "metadata": {},
   "outputs": [],
   "source": [
    "h2.put.remote(df)"
   ]
  },
  {
   "cell_type": "markdown",
   "id": "combined-eagle",
   "metadata": {},
   "source": [
    "### Skip here for pickling"
   ]
  },
  {
   "cell_type": "code",
   "execution_count": null,
   "id": "conscious-individual",
   "metadata": {},
   "outputs": [],
   "source": [
    "# ret = pickle.dumps(serialize.remote(order_data_dict))\n",
    "ret = serialize.remote(order_data_dict)"
   ]
  },
  {
   "cell_type": "code",
   "execution_count": null,
   "id": "oriented-reminder",
   "metadata": {},
   "outputs": [],
   "source": [
    "del ret"
   ]
  },
  {
   "cell_type": "code",
   "execution_count": null,
   "id": "hourly-replacement",
   "metadata": {},
   "outputs": [],
   "source": [
    "# obj_reference = pickle.loads(ret)"
   ]
  },
  {
   "cell_type": "code",
   "execution_count": null,
   "id": "associate-kuwait",
   "metadata": {},
   "outputs": [],
   "source": [
    "# obj_reference"
   ]
  },
  {
   "cell_type": "code",
   "execution_count": null,
   "id": "lyric-defensive",
   "metadata": {},
   "outputs": [],
   "source": [
    "# ret_ref = deserialize.remote(obj_reference)\n",
    "ret_ref = deserialize.remote(ret)"
   ]
  },
  {
   "cell_type": "code",
   "execution_count": null,
   "id": "tight-memorabilia",
   "metadata": {},
   "outputs": [],
   "source": [
    "ret_ref"
   ]
  },
  {
   "cell_type": "code",
   "execution_count": null,
   "id": "hispanic-violence",
   "metadata": {},
   "outputs": [],
   "source": [
    "des = ray.get(ret_ref)"
   ]
  },
  {
   "cell_type": "code",
   "execution_count": null,
   "id": "superb-relay",
   "metadata": {},
   "outputs": [],
   "source": [
    "des"
   ]
  },
  {
   "cell_type": "code",
   "execution_count": null,
   "id": "greatest-house",
   "metadata": {},
   "outputs": [],
   "source": [
    "del des\n",
    "del ret_ref\n",
    "del ret"
   ]
  },
  {
   "cell_type": "markdown",
   "id": "listed-deputy",
   "metadata": {},
   "source": [
    "### Now pickle"
   ]
  },
  {
   "cell_type": "code",
   "execution_count": null,
   "id": "instant-genius",
   "metadata": {},
   "outputs": [],
   "source": [
    "ret_ref = serialize.remote(order_data_dict)"
   ]
  },
  {
   "cell_type": "code",
   "execution_count": null,
   "id": "atmospheric-woman",
   "metadata": {},
   "outputs": [],
   "source": [
    "ret_ref"
   ]
  },
  {
   "cell_type": "code",
   "execution_count": null,
   "id": "stunning-stage",
   "metadata": {},
   "outputs": [],
   "source": [
    "ret_p = pickle.dumps(ret_ref)"
   ]
  },
  {
   "cell_type": "code",
   "execution_count": null,
   "id": "external-answer",
   "metadata": {},
   "outputs": [],
   "source": [
    "ret_p"
   ]
  },
  {
   "cell_type": "code",
   "execution_count": null,
   "id": "front-maple",
   "metadata": {},
   "outputs": [],
   "source": [
    "res = pickle.loads(ret_p)"
   ]
  },
  {
   "cell_type": "code",
   "execution_count": null,
   "id": "focused-interpretation",
   "metadata": {},
   "outputs": [],
   "source": [
    "res"
   ]
  },
  {
   "cell_type": "code",
   "execution_count": null,
   "id": "designing-stranger",
   "metadata": {},
   "outputs": [],
   "source": [
    "val = deserialize.remote(res)"
   ]
  },
  {
   "cell_type": "code",
   "execution_count": null,
   "id": "elegant-philosophy",
   "metadata": {},
   "outputs": [],
   "source": [
    "ray.get(val)"
   ]
  },
  {
   "cell_type": "code",
   "execution_count": null,
   "id": "welsh-minister",
   "metadata": {},
   "outputs": [],
   "source": [
    "del val\n",
    "del res\n",
    "del ret_p\n",
    "del ret_ref"
   ]
  },
  {
   "cell_type": "markdown",
   "id": "surprising-prefix",
   "metadata": {},
   "source": [
    "### Stop"
   ]
  },
  {
   "cell_type": "code",
   "execution_count": null,
   "id": "infinite-beverage",
   "metadata": {},
   "outputs": [],
   "source": [
    "ray.shutdown()"
   ]
  },
  {
   "cell_type": "code",
   "execution_count": null,
   "id": "dangerous-adventure",
   "metadata": {},
   "outputs": [],
   "source": []
  }
 ],
 "metadata": {
  "kernelspec": {
   "display_name": "Python 3",
   "language": "python",
   "name": "python3"
  },
  "language_info": {
   "codemirror_mode": {
    "name": "ipython",
    "version": 3
   },
   "file_extension": ".py",
   "mimetype": "text/x-python",
   "name": "python",
   "nbconvert_exporter": "python",
   "pygments_lexer": "ipython3",
   "version": "3.7.7"
  }
 },
 "nbformat": 4,
 "nbformat_minor": 5
}

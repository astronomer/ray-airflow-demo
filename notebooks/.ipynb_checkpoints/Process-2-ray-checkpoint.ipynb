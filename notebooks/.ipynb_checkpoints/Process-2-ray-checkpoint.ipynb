{
 "cells": [
  {
   "cell_type": "code",
   "execution_count": null,
   "id": "played-breeding",
   "metadata": {},
   "outputs": [],
   "source": [
    "import numpy as np\n",
    "import ray\n",
    "import pickle\n",
    "import sys\n",
    "sys.path.append('../include/libs')\n",
    "sys.path.append('..')\n",
    "from include.libs.ray.serialization import (\n",
    "    RayStore\n",
    ")"
   ]
  },
  {
   "cell_type": "code",
   "execution_count": null,
   "id": "recreational-money",
   "metadata": {},
   "outputs": [],
   "source": [
    "if not ray.is_initialized():\n",
    "    print(\"Initializing Ray\")\n",
    "    ray.util.connect('192.168.1.7:10001')"
   ]
  },
  {
   "cell_type": "code",
   "execution_count": null,
   "id": "intelligent-forestry",
   "metadata": {},
   "outputs": [],
   "source": [
    "handle = ray.get_actor(\"actor_return_value_task_flow_ray_pandas_build_dataframe\")"
   ]
  },
  {
   "cell_type": "code",
   "execution_count": null,
   "id": "statistical-covering",
   "metadata": {},
   "outputs": [],
   "source": [
    "val = handle.get.remote()"
   ]
  },
  {
   "cell_type": "code",
   "execution_count": null,
   "id": "danish-tourism",
   "metadata": {},
   "outputs": [],
   "source": [
    "val"
   ]
  },
  {
   "cell_type": "code",
   "execution_count": null,
   "id": "moving-calculation",
   "metadata": {},
   "outputs": [],
   "source": [
    "ray.get(handle.get.remote())"
   ]
  },
  {
   "cell_type": "code",
   "execution_count": null,
   "id": "downtown-wisconsin",
   "metadata": {},
   "outputs": [],
   "source": [
    "h22 = ray.get_actor(\"df_2\")"
   ]
  },
  {
   "cell_type": "code",
   "execution_count": null,
   "id": "domestic-preservation",
   "metadata": {},
   "outputs": [],
   "source": [
    "ray.get(h22.get.remote())"
   ]
  },
  {
   "cell_type": "code",
   "execution_count": null,
   "id": "activated-perspective",
   "metadata": {},
   "outputs": [],
   "source": []
  }
 ],
 "metadata": {
  "kernelspec": {
   "display_name": "Python 3",
   "language": "python",
   "name": "python3"
  },
  "language_info": {
   "codemirror_mode": {
    "name": "ipython",
    "version": 3
   },
   "file_extension": ".py",
   "mimetype": "text/x-python",
   "name": "python",
   "nbconvert_exporter": "python",
   "pygments_lexer": "ipython3",
   "version": "3.7.7"
  }
 },
 "nbformat": 4,
 "nbformat_minor": 5
}
